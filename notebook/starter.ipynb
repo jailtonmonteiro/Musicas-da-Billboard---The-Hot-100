{
 "cells": [
  {
   "cell_type": "markdown",
   "id": "c6940f32",
   "metadata": {},
   "source": [
    "# Músicas da Billboard \"The Hot 100\""
   ]
  },
  {
   "cell_type": "code",
   "execution_count": 95,
   "id": "75f7fb2e",
   "metadata": {},
   "outputs": [],
   "source": [
    "import pandas as pd"
   ]
  },
  {
   "cell_type": "code",
   "execution_count": 96,
   "id": "167f9cb4",
   "metadata": {},
   "outputs": [
    {
     "name": "stdout",
     "output_type": "stream",
     "text": [
      "<class 'pandas.core.frame.DataFrame'>\n",
      "RangeIndex: 330087 entries, 0 to 330086\n",
      "Data columns (total 7 columns):\n",
      " #   Column          Non-Null Count   Dtype  \n",
      "---  ------          --------------   -----  \n",
      " 0   date            330087 non-null  object \n",
      " 1   rank            330087 non-null  int64  \n",
      " 2   song            330087 non-null  object \n",
      " 3   artist          330087 non-null  object \n",
      " 4   last-week       297775 non-null  float64\n",
      " 5   peak-rank       330087 non-null  int64  \n",
      " 6   weeks-on-board  330087 non-null  int64  \n",
      "dtypes: float64(1), int64(3), object(3)\n",
      "memory usage: 17.6+ MB\n"
     ]
    }
   ],
   "source": [
    "# Leitura do arquivo\n",
    "\n",
    "arquivo = '../data_raw/charts.csv'\n",
    "base = pd.read_csv(arquivo, delimiter=',')\n",
    "base.info()"
   ]
  },
  {
   "cell_type": "code",
   "execution_count": 97,
   "id": "4f60f6e8",
   "metadata": {},
   "outputs": [
    {
     "data": {
      "text/html": [
       "<div>\n",
       "<style scoped>\n",
       "    .dataframe tbody tr th:only-of-type {\n",
       "        vertical-align: middle;\n",
       "    }\n",
       "\n",
       "    .dataframe tbody tr th {\n",
       "        vertical-align: top;\n",
       "    }\n",
       "\n",
       "    .dataframe thead th {\n",
       "        text-align: right;\n",
       "    }\n",
       "</style>\n",
       "<table border=\"1\" class=\"dataframe\">\n",
       "  <thead>\n",
       "    <tr style=\"text-align: right;\">\n",
       "      <th></th>\n",
       "      <th>date</th>\n",
       "      <th>rank</th>\n",
       "      <th>song</th>\n",
       "      <th>artist</th>\n",
       "      <th>last-week</th>\n",
       "      <th>peak-rank</th>\n",
       "      <th>weeks-on-board</th>\n",
       "    </tr>\n",
       "  </thead>\n",
       "  <tbody>\n",
       "    <tr>\n",
       "      <th>0</th>\n",
       "      <td>2021-11-06</td>\n",
       "      <td>1</td>\n",
       "      <td>Easy On Me</td>\n",
       "      <td>Adele</td>\n",
       "      <td>1.0</td>\n",
       "      <td>1</td>\n",
       "      <td>3</td>\n",
       "    </tr>\n",
       "    <tr>\n",
       "      <th>1</th>\n",
       "      <td>2021-11-06</td>\n",
       "      <td>2</td>\n",
       "      <td>Stay</td>\n",
       "      <td>The Kid LAROI &amp; Justin Bieber</td>\n",
       "      <td>2.0</td>\n",
       "      <td>1</td>\n",
       "      <td>16</td>\n",
       "    </tr>\n",
       "    <tr>\n",
       "      <th>2</th>\n",
       "      <td>2021-11-06</td>\n",
       "      <td>3</td>\n",
       "      <td>Industry Baby</td>\n",
       "      <td>Lil Nas X &amp; Jack Harlow</td>\n",
       "      <td>3.0</td>\n",
       "      <td>1</td>\n",
       "      <td>14</td>\n",
       "    </tr>\n",
       "    <tr>\n",
       "      <th>3</th>\n",
       "      <td>2021-11-06</td>\n",
       "      <td>4</td>\n",
       "      <td>Fancy Like</td>\n",
       "      <td>Walker Hayes</td>\n",
       "      <td>4.0</td>\n",
       "      <td>3</td>\n",
       "      <td>19</td>\n",
       "    </tr>\n",
       "    <tr>\n",
       "      <th>4</th>\n",
       "      <td>2021-11-06</td>\n",
       "      <td>5</td>\n",
       "      <td>Bad Habits</td>\n",
       "      <td>Ed Sheeran</td>\n",
       "      <td>5.0</td>\n",
       "      <td>2</td>\n",
       "      <td>18</td>\n",
       "    </tr>\n",
       "  </tbody>\n",
       "</table>\n",
       "</div>"
      ],
      "text/plain": [
       "         date  rank           song                         artist  last-week  \\\n",
       "0  2021-11-06     1     Easy On Me                          Adele        1.0   \n",
       "1  2021-11-06     2           Stay  The Kid LAROI & Justin Bieber        2.0   \n",
       "2  2021-11-06     3  Industry Baby        Lil Nas X & Jack Harlow        3.0   \n",
       "3  2021-11-06     4     Fancy Like                   Walker Hayes        4.0   \n",
       "4  2021-11-06     5     Bad Habits                     Ed Sheeran        5.0   \n",
       "\n",
       "   peak-rank  weeks-on-board  \n",
       "0          1               3  \n",
       "1          1              16  \n",
       "2          1              14  \n",
       "3          3              19  \n",
       "4          2              18  "
      ]
     },
     "execution_count": 97,
     "metadata": {},
     "output_type": "execute_result"
    }
   ],
   "source": [
    "base.head()"
   ]
  },
  {
   "cell_type": "code",
   "execution_count": 98,
   "id": "7cf649ec",
   "metadata": {},
   "outputs": [
    {
     "name": "stdout",
     "output_type": "stream",
     "text": [
      "<class 'pandas.core.frame.DataFrame'>\n",
      "RangeIndex: 330087 entries, 0 to 330086\n",
      "Data columns (total 7 columns):\n",
      " #   Column          Non-Null Count   Dtype         \n",
      "---  ------          --------------   -----         \n",
      " 0   date            330087 non-null  datetime64[ns]\n",
      " 1   rank            330087 non-null  int64         \n",
      " 2   song            330087 non-null  string        \n",
      " 3   artist          330087 non-null  string        \n",
      " 4   last-week       330087 non-null  int64         \n",
      " 5   peak-rank       330087 non-null  int64         \n",
      " 6   weeks-on-board  330087 non-null  int64         \n",
      "dtypes: datetime64[ns](1), int64(4), string(2)\n",
      "memory usage: 17.6 MB\n"
     ]
    }
   ],
   "source": [
    "# Conversão de valores das colunas para formatos ideais\n",
    "\n",
    "base['date'] = base['date'].astype('datetime64[ns]')\n",
    "base['song'] = base['song'].astype('string')\n",
    "base['artist'] = base['artist'].astype('string')\n",
    "base['last-week'] = base['last-week'].fillna(0)\n",
    "base['last-week'] = base['last-week'].astype('int64')\n",
    "base.info()"
   ]
  },
  {
   "cell_type": "code",
   "execution_count": 99,
   "id": "9a22543e",
   "metadata": {},
   "outputs": [
    {
     "data": {
      "text/plain": [
       "song\n",
       "Stay           224\n",
       "Angel          205\n",
       "Hold On        202\n",
       "You            195\n",
       "Heaven         194\n",
       "I Like It      188\n",
       "Crazy          176\n",
       "Without You    174\n",
       "Forever        164\n",
       "Happy          157\n",
       "Name: count, dtype: Int64"
      ]
     },
     "execution_count": 99,
     "metadata": {},
     "output_type": "execute_result"
    }
   ],
   "source": [
    "# Top 10 musicas que mais apareceram no Hot 100 ao longo do tempo\n",
    "\n",
    "musicas = base['song'].value_counts()\n",
    "musicas.head(10)\n",
    "\n",
    "# Aplica um filtro de musicas na base e contabiliza quantas vezes cada valor aparece, e com isso seleciona as 10 primeiras"
   ]
  },
  {
   "cell_type": "code",
   "execution_count": 100,
   "id": "db3a3ba8",
   "metadata": {},
   "outputs": [
    {
     "data": {
      "text/plain": [
       "artist\n",
       "Taylor Swift     1023\n",
       "Elton John        889\n",
       "Madonna           857\n",
       "Drake             787\n",
       "Kenny Chesney     769\n",
       "Tim McGraw        731\n",
       "Keith Urban       673\n",
       "Stevie Wonder     659\n",
       "Rod Stewart       657\n",
       "Mariah Carey      621\n",
       "Name: count, dtype: Int64"
      ]
     },
     "execution_count": 100,
     "metadata": {},
     "output_type": "execute_result"
    }
   ],
   "source": [
    "# Top 10 artistas que mais apareceram no Hot 100 ao longo do tempo\n",
    "\n",
    "artistas = base['artist'].value_counts()\n",
    "artistas.head(10)\n",
    "\n",
    "# Aplica um filtro de artistas na base e contabiliza quantas vezes cada valor aparece, e com isso seleciona as 10 primeiras"
   ]
  },
  {
   "cell_type": "code",
   "execution_count": 101,
   "id": "1c357a31",
   "metadata": {},
   "outputs": [
    {
     "data": {
      "text/plain": [
       "song                                 artist                                   \n",
       "Blinding Lights                      The Weeknd                                   90\n",
       "Radioactive                          Imagine Dragons                              87\n",
       "Sail                                 AWOLNATION                                   79\n",
       "I'm Yours                            Jason Mraz                                   76\n",
       "How Do I Live                        LeAnn Rimes                                  69\n",
       "Counting Stars                       OneRepublic                                  68\n",
       "Party Rock Anthem                    LMFAO Featuring Lauren Bennett & GoonRock    68\n",
       "Rolling In The Deep                  Adele                                        65\n",
       "Foolish Games/You Were Meant For Me  Jewel                                        65\n",
       "Before He Cheats                     Carrie Underwood                             64\n",
       "Name: count, dtype: int64"
      ]
     },
     "execution_count": 101,
     "metadata": {},
     "output_type": "execute_result"
    }
   ],
   "source": [
    "# Top 10 musicas com maior número de semanas na parada\n",
    "\n",
    "permanencia = base.groupby('song')['artist'].value_counts().sort_values(ascending=False)\n",
    "permanencia.head(10)\n",
    "\n",
    "# Aplica um agrupamento por músicas na base, em conjunto com um filtro por nome de artistas, na sequência fazemos uma contagem de valor e uma ordenação"
   ]
  },
  {
   "cell_type": "code",
   "execution_count": 102,
   "id": "fc15288e",
   "metadata": {},
   "outputs": [
    {
     "data": {
      "text/plain": [
       "artist\n",
       "Mariah Carey           65\n",
       "The Beatles            54\n",
       "Boyz II Men            34\n",
       "Madonna                32\n",
       "Whitney Houston        31\n",
       "Drake                  31\n",
       "Michael Jackson        30\n",
       "The Black Eyed Peas    28\n",
       "Bee Gees               27\n",
       "Adele                  26\n",
       "Name: count, dtype: Int64"
      ]
     },
     "execution_count": 102,
     "metadata": {},
     "output_type": "execute_result"
    }
   ],
   "source": [
    "# Top 10 artistas com mais músicas no Top 1\n",
    "\n",
    "topDez = base[base['rank'] == 1]\n",
    "topDez = topDez['artist'].value_counts().head(10)\n",
    "topDez.head(10)\n",
    "\n",
    "# Nesse caso é feito um agrupamento por rank, com um filtro por artistas e contabilizamos o valor que o nome do artista aparece"
   ]
  },
  {
   "cell_type": "code",
   "execution_count": 103,
   "id": "c6fc82d1",
   "metadata": {},
   "outputs": [
    {
     "data": {
      "text/plain": [
       "artist\n",
       "Mariah Carey       233\n",
       "Madonna            213\n",
       "The Beatles        203\n",
       "Whitney Houston    161\n",
       "Bruno Mars         150\n",
       "Janet Jackson      148\n",
       "Taylor Swift       147\n",
       "Michael Jackson    146\n",
       "Usher              145\n",
       "Elton John         144\n",
       "Name: count, dtype: Int64"
      ]
     },
     "execution_count": 103,
     "metadata": {},
     "output_type": "execute_result"
    }
   ],
   "source": [
    "# Top 10 artistas com mais músicas no Top 10\n",
    "\n",
    "topUm = base[base['rank'] <= 10]\n",
    "topUm = topUm['artist'].value_counts().head(10)\n",
    "topUm.head(10)\n",
    "\n",
    "# Primeiro selecionamos as linhas onde o rank é menor ou igual a 10"
   ]
  },
  {
   "cell_type": "code",
   "execution_count": null,
   "id": "3f07640b",
   "metadata": {},
   "outputs": [],
   "source": []
  }
 ],
 "metadata": {
  "kernelspec": {
   "display_name": "Python 3",
   "language": "python",
   "name": "python3"
  },
  "language_info": {
   "codemirror_mode": {
    "name": "ipython",
    "version": 3
   },
   "file_extension": ".py",
   "mimetype": "text/x-python",
   "name": "python",
   "nbconvert_exporter": "python",
   "pygments_lexer": "ipython3",
   "version": "3.13.5"
  }
 },
 "nbformat": 4,
 "nbformat_minor": 5
}
